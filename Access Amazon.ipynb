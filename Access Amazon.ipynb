{
 "cells": [
  {
   "cell_type": "code",
   "execution_count": 1,
   "id": "bc8da211",
   "metadata": {},
   "outputs": [],
   "source": [
    "import pandas as pd\n",
    "import seaborn as sns\n",
    "import matplotlib.pyplot as plt\n",
    "import numpy as np\n",
    "import warnings\n",
    "warnings.filterwarnings(\"ignore\")"
   ]
  },
  {
   "cell_type": "code",
   "execution_count": 2,
   "id": "ec6ef3dd",
   "metadata": {},
   "outputs": [],
   "source": [
    "data_frame = pd.read_csv(\"train.csv\")"
   ]
  },
  {
   "cell_type": "code",
   "execution_count": 3,
   "id": "3d391364",
   "metadata": {},
   "outputs": [
    {
     "data": {
      "text/html": [
       "<div>\n",
       "<style scoped>\n",
       "    .dataframe tbody tr th:only-of-type {\n",
       "        vertical-align: middle;\n",
       "    }\n",
       "\n",
       "    .dataframe tbody tr th {\n",
       "        vertical-align: top;\n",
       "    }\n",
       "\n",
       "    .dataframe thead th {\n",
       "        text-align: right;\n",
       "    }\n",
       "</style>\n",
       "<table border=\"1\" class=\"dataframe\">\n",
       "  <thead>\n",
       "    <tr style=\"text-align: right;\">\n",
       "      <th></th>\n",
       "      <th>ACTION</th>\n",
       "      <th>RESOURCE</th>\n",
       "      <th>MGR_ID</th>\n",
       "      <th>ROLE_ROLLUP_1</th>\n",
       "      <th>ROLE_ROLLUP_2</th>\n",
       "      <th>ROLE_DEPTNAME</th>\n",
       "      <th>ROLE_TITLE</th>\n",
       "      <th>ROLE_FAMILY_DESC</th>\n",
       "      <th>ROLE_FAMILY</th>\n",
       "      <th>ROLE_CODE</th>\n",
       "    </tr>\n",
       "  </thead>\n",
       "  <tbody>\n",
       "    <tr>\n",
       "      <th>0</th>\n",
       "      <td>1</td>\n",
       "      <td>39353</td>\n",
       "      <td>85475</td>\n",
       "      <td>117961</td>\n",
       "      <td>118300</td>\n",
       "      <td>123472</td>\n",
       "      <td>117905</td>\n",
       "      <td>117906</td>\n",
       "      <td>290919</td>\n",
       "      <td>117908</td>\n",
       "    </tr>\n",
       "    <tr>\n",
       "      <th>1</th>\n",
       "      <td>1</td>\n",
       "      <td>17183</td>\n",
       "      <td>1540</td>\n",
       "      <td>117961</td>\n",
       "      <td>118343</td>\n",
       "      <td>123125</td>\n",
       "      <td>118536</td>\n",
       "      <td>118536</td>\n",
       "      <td>308574</td>\n",
       "      <td>118539</td>\n",
       "    </tr>\n",
       "    <tr>\n",
       "      <th>2</th>\n",
       "      <td>1</td>\n",
       "      <td>36724</td>\n",
       "      <td>14457</td>\n",
       "      <td>118219</td>\n",
       "      <td>118220</td>\n",
       "      <td>117884</td>\n",
       "      <td>117879</td>\n",
       "      <td>267952</td>\n",
       "      <td>19721</td>\n",
       "      <td>117880</td>\n",
       "    </tr>\n",
       "    <tr>\n",
       "      <th>3</th>\n",
       "      <td>1</td>\n",
       "      <td>36135</td>\n",
       "      <td>5396</td>\n",
       "      <td>117961</td>\n",
       "      <td>118343</td>\n",
       "      <td>119993</td>\n",
       "      <td>118321</td>\n",
       "      <td>240983</td>\n",
       "      <td>290919</td>\n",
       "      <td>118322</td>\n",
       "    </tr>\n",
       "    <tr>\n",
       "      <th>4</th>\n",
       "      <td>1</td>\n",
       "      <td>42680</td>\n",
       "      <td>5905</td>\n",
       "      <td>117929</td>\n",
       "      <td>117930</td>\n",
       "      <td>119569</td>\n",
       "      <td>119323</td>\n",
       "      <td>123932</td>\n",
       "      <td>19793</td>\n",
       "      <td>119325</td>\n",
       "    </tr>\n",
       "  </tbody>\n",
       "</table>\n",
       "</div>"
      ],
      "text/plain": [
       "   ACTION  RESOURCE  MGR_ID  ROLE_ROLLUP_1  ROLE_ROLLUP_2  ROLE_DEPTNAME  \\\n",
       "0       1     39353   85475         117961         118300         123472   \n",
       "1       1     17183    1540         117961         118343         123125   \n",
       "2       1     36724   14457         118219         118220         117884   \n",
       "3       1     36135    5396         117961         118343         119993   \n",
       "4       1     42680    5905         117929         117930         119569   \n",
       "\n",
       "   ROLE_TITLE  ROLE_FAMILY_DESC  ROLE_FAMILY  ROLE_CODE  \n",
       "0      117905            117906       290919     117908  \n",
       "1      118536            118536       308574     118539  \n",
       "2      117879            267952        19721     117880  \n",
       "3      118321            240983       290919     118322  \n",
       "4      119323            123932        19793     119325  "
      ]
     },
     "execution_count": 3,
     "metadata": {},
     "output_type": "execute_result"
    }
   ],
   "source": [
    "data_frame.head()"
   ]
  },
  {
   "cell_type": "code",
   "execution_count": 4,
   "id": "0cedb716",
   "metadata": {},
   "outputs": [
    {
     "name": "stdout",
     "output_type": "stream",
     "text": [
      "<class 'pandas.core.frame.DataFrame'>\n",
      "RangeIndex: 32769 entries, 0 to 32768\n",
      "Data columns (total 10 columns):\n",
      " #   Column            Non-Null Count  Dtype\n",
      "---  ------            --------------  -----\n",
      " 0   ACTION            32769 non-null  int64\n",
      " 1   RESOURCE          32769 non-null  int64\n",
      " 2   MGR_ID            32769 non-null  int64\n",
      " 3   ROLE_ROLLUP_1     32769 non-null  int64\n",
      " 4   ROLE_ROLLUP_2     32769 non-null  int64\n",
      " 5   ROLE_DEPTNAME     32769 non-null  int64\n",
      " 6   ROLE_TITLE        32769 non-null  int64\n",
      " 7   ROLE_FAMILY_DESC  32769 non-null  int64\n",
      " 8   ROLE_FAMILY       32769 non-null  int64\n",
      " 9   ROLE_CODE         32769 non-null  int64\n",
      "dtypes: int64(10)\n",
      "memory usage: 2.5 MB\n"
     ]
    }
   ],
   "source": [
    "data_frame.info()"
   ]
  },
  {
   "cell_type": "code",
   "execution_count": 5,
   "id": "8a33e5cf",
   "metadata": {},
   "outputs": [
    {
     "data": {
      "text/html": [
       "<div>\n",
       "<style scoped>\n",
       "    .dataframe tbody tr th:only-of-type {\n",
       "        vertical-align: middle;\n",
       "    }\n",
       "\n",
       "    .dataframe tbody tr th {\n",
       "        vertical-align: top;\n",
       "    }\n",
       "\n",
       "    .dataframe thead th {\n",
       "        text-align: right;\n",
       "    }\n",
       "</style>\n",
       "<table border=\"1\" class=\"dataframe\">\n",
       "  <thead>\n",
       "    <tr style=\"text-align: right;\">\n",
       "      <th></th>\n",
       "      <th>ACTION</th>\n",
       "      <th>RESOURCE</th>\n",
       "      <th>MGR_ID</th>\n",
       "      <th>ROLE_ROLLUP_1</th>\n",
       "      <th>ROLE_ROLLUP_2</th>\n",
       "      <th>ROLE_DEPTNAME</th>\n",
       "      <th>ROLE_TITLE</th>\n",
       "      <th>ROLE_FAMILY_DESC</th>\n",
       "      <th>ROLE_FAMILY</th>\n",
       "      <th>ROLE_CODE</th>\n",
       "    </tr>\n",
       "  </thead>\n",
       "  <tbody>\n",
       "    <tr>\n",
       "      <th>count</th>\n",
       "      <td>32769.000000</td>\n",
       "      <td>32769.000000</td>\n",
       "      <td>32769.000000</td>\n",
       "      <td>32769.000000</td>\n",
       "      <td>32769.000000</td>\n",
       "      <td>32769.000000</td>\n",
       "      <td>32769.000000</td>\n",
       "      <td>32769.000000</td>\n",
       "      <td>32769.000000</td>\n",
       "      <td>32769.000000</td>\n",
       "    </tr>\n",
       "    <tr>\n",
       "      <th>mean</th>\n",
       "      <td>0.942110</td>\n",
       "      <td>42923.916171</td>\n",
       "      <td>25988.957979</td>\n",
       "      <td>116952.627788</td>\n",
       "      <td>118301.823156</td>\n",
       "      <td>118912.779914</td>\n",
       "      <td>125916.152644</td>\n",
       "      <td>170178.369648</td>\n",
       "      <td>183703.408893</td>\n",
       "      <td>119789.430132</td>\n",
       "    </tr>\n",
       "    <tr>\n",
       "      <th>std</th>\n",
       "      <td>0.233539</td>\n",
       "      <td>34173.892702</td>\n",
       "      <td>35928.031650</td>\n",
       "      <td>10875.563591</td>\n",
       "      <td>4551.588572</td>\n",
       "      <td>18961.322917</td>\n",
       "      <td>31036.465825</td>\n",
       "      <td>69509.462130</td>\n",
       "      <td>100488.407413</td>\n",
       "      <td>5784.275516</td>\n",
       "    </tr>\n",
       "    <tr>\n",
       "      <th>min</th>\n",
       "      <td>0.000000</td>\n",
       "      <td>0.000000</td>\n",
       "      <td>25.000000</td>\n",
       "      <td>4292.000000</td>\n",
       "      <td>23779.000000</td>\n",
       "      <td>4674.000000</td>\n",
       "      <td>117879.000000</td>\n",
       "      <td>4673.000000</td>\n",
       "      <td>3130.000000</td>\n",
       "      <td>117880.000000</td>\n",
       "    </tr>\n",
       "    <tr>\n",
       "      <th>25%</th>\n",
       "      <td>1.000000</td>\n",
       "      <td>20299.000000</td>\n",
       "      <td>4566.000000</td>\n",
       "      <td>117961.000000</td>\n",
       "      <td>118102.000000</td>\n",
       "      <td>118395.000000</td>\n",
       "      <td>118274.000000</td>\n",
       "      <td>117906.000000</td>\n",
       "      <td>118363.000000</td>\n",
       "      <td>118232.000000</td>\n",
       "    </tr>\n",
       "    <tr>\n",
       "      <th>50%</th>\n",
       "      <td>1.000000</td>\n",
       "      <td>35376.000000</td>\n",
       "      <td>13545.000000</td>\n",
       "      <td>117961.000000</td>\n",
       "      <td>118300.000000</td>\n",
       "      <td>118921.000000</td>\n",
       "      <td>118568.000000</td>\n",
       "      <td>128696.000000</td>\n",
       "      <td>119006.000000</td>\n",
       "      <td>118570.000000</td>\n",
       "    </tr>\n",
       "    <tr>\n",
       "      <th>75%</th>\n",
       "      <td>1.000000</td>\n",
       "      <td>74189.000000</td>\n",
       "      <td>42034.000000</td>\n",
       "      <td>117961.000000</td>\n",
       "      <td>118386.000000</td>\n",
       "      <td>120535.000000</td>\n",
       "      <td>120006.000000</td>\n",
       "      <td>235280.000000</td>\n",
       "      <td>290919.000000</td>\n",
       "      <td>119348.000000</td>\n",
       "    </tr>\n",
       "    <tr>\n",
       "      <th>max</th>\n",
       "      <td>1.000000</td>\n",
       "      <td>312153.000000</td>\n",
       "      <td>311696.000000</td>\n",
       "      <td>311178.000000</td>\n",
       "      <td>286791.000000</td>\n",
       "      <td>286792.000000</td>\n",
       "      <td>311867.000000</td>\n",
       "      <td>311867.000000</td>\n",
       "      <td>308574.000000</td>\n",
       "      <td>270691.000000</td>\n",
       "    </tr>\n",
       "  </tbody>\n",
       "</table>\n",
       "</div>"
      ],
      "text/plain": [
       "             ACTION       RESOURCE         MGR_ID  ROLE_ROLLUP_1  \\\n",
       "count  32769.000000   32769.000000   32769.000000   32769.000000   \n",
       "mean       0.942110   42923.916171   25988.957979  116952.627788   \n",
       "std        0.233539   34173.892702   35928.031650   10875.563591   \n",
       "min        0.000000       0.000000      25.000000    4292.000000   \n",
       "25%        1.000000   20299.000000    4566.000000  117961.000000   \n",
       "50%        1.000000   35376.000000   13545.000000  117961.000000   \n",
       "75%        1.000000   74189.000000   42034.000000  117961.000000   \n",
       "max        1.000000  312153.000000  311696.000000  311178.000000   \n",
       "\n",
       "       ROLE_ROLLUP_2  ROLE_DEPTNAME     ROLE_TITLE  ROLE_FAMILY_DESC  \\\n",
       "count   32769.000000   32769.000000   32769.000000      32769.000000   \n",
       "mean   118301.823156  118912.779914  125916.152644     170178.369648   \n",
       "std      4551.588572   18961.322917   31036.465825      69509.462130   \n",
       "min     23779.000000    4674.000000  117879.000000       4673.000000   \n",
       "25%    118102.000000  118395.000000  118274.000000     117906.000000   \n",
       "50%    118300.000000  118921.000000  118568.000000     128696.000000   \n",
       "75%    118386.000000  120535.000000  120006.000000     235280.000000   \n",
       "max    286791.000000  286792.000000  311867.000000     311867.000000   \n",
       "\n",
       "         ROLE_FAMILY      ROLE_CODE  \n",
       "count   32769.000000   32769.000000  \n",
       "mean   183703.408893  119789.430132  \n",
       "std    100488.407413    5784.275516  \n",
       "min      3130.000000  117880.000000  \n",
       "25%    118363.000000  118232.000000  \n",
       "50%    119006.000000  118570.000000  \n",
       "75%    290919.000000  119348.000000  \n",
       "max    308574.000000  270691.000000  "
      ]
     },
     "execution_count": 5,
     "metadata": {},
     "output_type": "execute_result"
    }
   ],
   "source": [
    "data_frame.describe()"
   ]
  },
  {
   "cell_type": "code",
   "execution_count": 6,
   "id": "ade9fb14",
   "metadata": {},
   "outputs": [
    {
     "data": {
      "text/html": [
       "<div>\n",
       "<style scoped>\n",
       "    .dataframe tbody tr th:only-of-type {\n",
       "        vertical-align: middle;\n",
       "    }\n",
       "\n",
       "    .dataframe tbody tr th {\n",
       "        vertical-align: top;\n",
       "    }\n",
       "\n",
       "    .dataframe thead th {\n",
       "        text-align: right;\n",
       "    }\n",
       "</style>\n",
       "<table border=\"1\" class=\"dataframe\">\n",
       "  <thead>\n",
       "    <tr style=\"text-align: right;\">\n",
       "      <th></th>\n",
       "      <th>ACTION</th>\n",
       "      <th>RESOURCE</th>\n",
       "      <th>MGR_ID</th>\n",
       "      <th>ROLE_ROLLUP_1</th>\n",
       "      <th>ROLE_ROLLUP_2</th>\n",
       "      <th>ROLE_DEPTNAME</th>\n",
       "      <th>ROLE_TITLE</th>\n",
       "      <th>ROLE_FAMILY_DESC</th>\n",
       "      <th>ROLE_FAMILY</th>\n",
       "      <th>ROLE_CODE</th>\n",
       "    </tr>\n",
       "  </thead>\n",
       "  <tbody>\n",
       "    <tr>\n",
       "      <th>0</th>\n",
       "      <td>1</td>\n",
       "      <td>39353</td>\n",
       "      <td>85475</td>\n",
       "      <td>117961</td>\n",
       "      <td>118300</td>\n",
       "      <td>123472</td>\n",
       "      <td>117905</td>\n",
       "      <td>117906</td>\n",
       "      <td>290919</td>\n",
       "      <td>117908</td>\n",
       "    </tr>\n",
       "    <tr>\n",
       "      <th>1</th>\n",
       "      <td>1</td>\n",
       "      <td>17183</td>\n",
       "      <td>1540</td>\n",
       "      <td>117961</td>\n",
       "      <td>118343</td>\n",
       "      <td>123125</td>\n",
       "      <td>118536</td>\n",
       "      <td>118536</td>\n",
       "      <td>308574</td>\n",
       "      <td>118539</td>\n",
       "    </tr>\n",
       "    <tr>\n",
       "      <th>2</th>\n",
       "      <td>1</td>\n",
       "      <td>36724</td>\n",
       "      <td>14457</td>\n",
       "      <td>118219</td>\n",
       "      <td>118220</td>\n",
       "      <td>117884</td>\n",
       "      <td>117879</td>\n",
       "      <td>267952</td>\n",
       "      <td>19721</td>\n",
       "      <td>117880</td>\n",
       "    </tr>\n",
       "    <tr>\n",
       "      <th>3</th>\n",
       "      <td>1</td>\n",
       "      <td>36135</td>\n",
       "      <td>5396</td>\n",
       "      <td>117961</td>\n",
       "      <td>118343</td>\n",
       "      <td>119993</td>\n",
       "      <td>118321</td>\n",
       "      <td>240983</td>\n",
       "      <td>290919</td>\n",
       "      <td>118322</td>\n",
       "    </tr>\n",
       "    <tr>\n",
       "      <th>4</th>\n",
       "      <td>1</td>\n",
       "      <td>42680</td>\n",
       "      <td>5905</td>\n",
       "      <td>117929</td>\n",
       "      <td>117930</td>\n",
       "      <td>119569</td>\n",
       "      <td>119323</td>\n",
       "      <td>123932</td>\n",
       "      <td>19793</td>\n",
       "      <td>119325</td>\n",
       "    </tr>\n",
       "    <tr>\n",
       "      <th>...</th>\n",
       "      <td>...</td>\n",
       "      <td>...</td>\n",
       "      <td>...</td>\n",
       "      <td>...</td>\n",
       "      <td>...</td>\n",
       "      <td>...</td>\n",
       "      <td>...</td>\n",
       "      <td>...</td>\n",
       "      <td>...</td>\n",
       "      <td>...</td>\n",
       "    </tr>\n",
       "    <tr>\n",
       "      <th>32764</th>\n",
       "      <td>1</td>\n",
       "      <td>23497</td>\n",
       "      <td>16971</td>\n",
       "      <td>117961</td>\n",
       "      <td>118300</td>\n",
       "      <td>119993</td>\n",
       "      <td>118321</td>\n",
       "      <td>240983</td>\n",
       "      <td>290919</td>\n",
       "      <td>118322</td>\n",
       "    </tr>\n",
       "    <tr>\n",
       "      <th>32765</th>\n",
       "      <td>1</td>\n",
       "      <td>25139</td>\n",
       "      <td>311198</td>\n",
       "      <td>91261</td>\n",
       "      <td>118026</td>\n",
       "      <td>122392</td>\n",
       "      <td>121143</td>\n",
       "      <td>173805</td>\n",
       "      <td>249618</td>\n",
       "      <td>121145</td>\n",
       "    </tr>\n",
       "    <tr>\n",
       "      <th>32766</th>\n",
       "      <td>1</td>\n",
       "      <td>34924</td>\n",
       "      <td>28805</td>\n",
       "      <td>117961</td>\n",
       "      <td>118327</td>\n",
       "      <td>120299</td>\n",
       "      <td>124922</td>\n",
       "      <td>152038</td>\n",
       "      <td>118612</td>\n",
       "      <td>124924</td>\n",
       "    </tr>\n",
       "    <tr>\n",
       "      <th>32767</th>\n",
       "      <td>1</td>\n",
       "      <td>80574</td>\n",
       "      <td>55643</td>\n",
       "      <td>118256</td>\n",
       "      <td>118257</td>\n",
       "      <td>117945</td>\n",
       "      <td>280788</td>\n",
       "      <td>280788</td>\n",
       "      <td>292795</td>\n",
       "      <td>119082</td>\n",
       "    </tr>\n",
       "    <tr>\n",
       "      <th>32768</th>\n",
       "      <td>1</td>\n",
       "      <td>14354</td>\n",
       "      <td>59575</td>\n",
       "      <td>117916</td>\n",
       "      <td>118150</td>\n",
       "      <td>117920</td>\n",
       "      <td>118568</td>\n",
       "      <td>122142</td>\n",
       "      <td>19721</td>\n",
       "      <td>118570</td>\n",
       "    </tr>\n",
       "  </tbody>\n",
       "</table>\n",
       "<p>32769 rows × 10 columns</p>\n",
       "</div>"
      ],
      "text/plain": [
       "       ACTION  RESOURCE  MGR_ID  ROLE_ROLLUP_1  ROLE_ROLLUP_2  ROLE_DEPTNAME  \\\n",
       "0           1     39353   85475         117961         118300         123472   \n",
       "1           1     17183    1540         117961         118343         123125   \n",
       "2           1     36724   14457         118219         118220         117884   \n",
       "3           1     36135    5396         117961         118343         119993   \n",
       "4           1     42680    5905         117929         117930         119569   \n",
       "...       ...       ...     ...            ...            ...            ...   \n",
       "32764       1     23497   16971         117961         118300         119993   \n",
       "32765       1     25139  311198          91261         118026         122392   \n",
       "32766       1     34924   28805         117961         118327         120299   \n",
       "32767       1     80574   55643         118256         118257         117945   \n",
       "32768       1     14354   59575         117916         118150         117920   \n",
       "\n",
       "       ROLE_TITLE  ROLE_FAMILY_DESC  ROLE_FAMILY  ROLE_CODE  \n",
       "0          117905            117906       290919     117908  \n",
       "1          118536            118536       308574     118539  \n",
       "2          117879            267952        19721     117880  \n",
       "3          118321            240983       290919     118322  \n",
       "4          119323            123932        19793     119325  \n",
       "...           ...               ...          ...        ...  \n",
       "32764      118321            240983       290919     118322  \n",
       "32765      121143            173805       249618     121145  \n",
       "32766      124922            152038       118612     124924  \n",
       "32767      280788            280788       292795     119082  \n",
       "32768      118568            122142        19721     118570  \n",
       "\n",
       "[32769 rows x 10 columns]"
      ]
     },
     "execution_count": 6,
     "metadata": {},
     "output_type": "execute_result"
    }
   ],
   "source": [
    "data_frame"
   ]
  },
  {
   "cell_type": "code",
   "execution_count": 7,
   "id": "3f181e5f",
   "metadata": {},
   "outputs": [
    {
     "data": {
      "text/plain": [
       "1    30872\n",
       "0     1897\n",
       "Name: ACTION, dtype: int64"
      ]
     },
     "execution_count": 7,
     "metadata": {},
     "output_type": "execute_result"
    }
   ],
   "source": [
    "data_frame[\"ACTION\"].value_counts()"
   ]
  },
  {
   "cell_type": "code",
   "execution_count": 8,
   "id": "3c10e8b7",
   "metadata": {},
   "outputs": [
    {
     "data": {
      "text/plain": [
       "<AxesSubplot:xlabel='ACTION', ylabel='count'>"
      ]
     },
     "execution_count": 8,
     "metadata": {},
     "output_type": "execute_result"
    },
    {
     "data": {
      "image/png": "[encoded data removed]",
      "text/plain": [
       "<Figure size 432x288 with 1 Axes>"
      ]
     },
     "metadata": {
      "needs_background": "light"
     },
     "output_type": "display_data"
    }
   ],
   "source": [
    "sns.countplot(data_frame[\"ACTION\"])"
   ]
  },
  {
   "cell_type": "code",
   "execution_count": 9,
   "id": "e14bd9a2",
   "metadata": {},
   "outputs": [],
   "source": [
    "data_frame_1 = data_frame"
   ]
  },
  {
   "cell_type": "code",
   "execution_count": 10,
   "id": "e3e8383a",
   "metadata": {},
   "outputs": [
    {
     "data": {
      "text/plain": [
       "<AxesSubplot:>"
      ]
     },
     "execution_count": 10,
     "metadata": {},
     "output_type": "execute_result"
    },
    {
     "data": {
      "image/png": "[encoded data removed]",
      "text/plain": [
       "<Figure size 720x576 with 2 Axes>"
      ]
     },
     "metadata": {
      "needs_background": "light"
     },
     "output_type": "display_data"
    }
   ],
   "source": [
    "plt.figure(figsize = (10,8))\n",
    "sns.heatmap(data = data_frame_1.corr(), annot = True, cmap = 'RdYlGn')"
   ]
  },
  {
   "cell_type": "code",
   "execution_count": 11,
   "id": "3e2049f3",
   "metadata": {},
   "outputs": [],
   "source": [
    "from sklearn.utils import resample"
   ]
  },
  {
   "cell_type": "code",
   "execution_count": 12,
   "id": "48e949de",
   "metadata": {},
   "outputs": [],
   "source": [
    "df_majority = data_frame_1[data_frame_1[\"ACTION\"] == 1]\n",
    "df_minority = data_frame_1[data_frame_1[\"ACTION\"] == 0]\n",
    "df_minority_upsampled = resample(df_minority, replace = True, n_samples = 23000, random_state = 42)"
   ]
  },
  {
   "cell_type": "code",
   "execution_count": 13,
   "id": "72993bcd",
   "metadata": {},
   "outputs": [],
   "source": [
    "data_frame_bal = pd.concat([df_minority_upsampled, df_majority])"
   ]
  },
  {
   "cell_type": "code",
   "execution_count": 14,
   "id": "51404845",
   "metadata": {},
   "outputs": [
    {
     "data": {
      "text/html": [
       "<div>\n",
       "<style scoped>\n",
       "    .dataframe tbody tr th:only-of-type {\n",
       "        vertical-align: middle;\n",
       "    }\n",
       "\n",
       "    .dataframe tbody tr th {\n",
       "        vertical-align: top;\n",
       "    }\n",
       "\n",
       "    .dataframe thead th {\n",
       "        text-align: right;\n",
       "    }\n",
       "</style>\n",
       "<table border=\"1\" class=\"dataframe\">\n",
       "  <thead>\n",
       "    <tr style=\"text-align: right;\">\n",
       "      <th></th>\n",
       "      <th>ACTION</th>\n",
       "      <th>RESOURCE</th>\n",
       "      <th>MGR_ID</th>\n",
       "      <th>ROLE_ROLLUP_1</th>\n",
       "      <th>ROLE_ROLLUP_2</th>\n",
       "      <th>ROLE_DEPTNAME</th>\n",
       "      <th>ROLE_TITLE</th>\n",
       "      <th>ROLE_FAMILY_DESC</th>\n",
       "      <th>ROLE_FAMILY</th>\n",
       "      <th>ROLE_CODE</th>\n",
       "    </tr>\n",
       "  </thead>\n",
       "  <tbody>\n",
       "    <tr>\n",
       "      <th>19675</th>\n",
       "      <td>0</td>\n",
       "      <td>7543</td>\n",
       "      <td>6997</td>\n",
       "      <td>117961</td>\n",
       "      <td>118343</td>\n",
       "      <td>119945</td>\n",
       "      <td>118321</td>\n",
       "      <td>117906</td>\n",
       "      <td>290919</td>\n",
       "      <td>118322</td>\n",
       "    </tr>\n",
       "    <tr>\n",
       "      <th>25615</th>\n",
       "      <td>0</td>\n",
       "      <td>38723</td>\n",
       "      <td>19642</td>\n",
       "      <td>117961</td>\n",
       "      <td>118413</td>\n",
       "      <td>118481</td>\n",
       "      <td>118784</td>\n",
       "      <td>117906</td>\n",
       "      <td>290919</td>\n",
       "      <td>118786</td>\n",
       "    </tr>\n",
       "    <tr>\n",
       "      <th>14749</th>\n",
       "      <td>0</td>\n",
       "      <td>20218</td>\n",
       "      <td>15616</td>\n",
       "      <td>119280</td>\n",
       "      <td>119281</td>\n",
       "      <td>118623</td>\n",
       "      <td>118995</td>\n",
       "      <td>286106</td>\n",
       "      <td>292795</td>\n",
       "      <td>118997</td>\n",
       "    </tr>\n",
       "    <tr>\n",
       "      <th>22749</th>\n",
       "      <td>0</td>\n",
       "      <td>33115</td>\n",
       "      <td>27619</td>\n",
       "      <td>117961</td>\n",
       "      <td>118413</td>\n",
       "      <td>118414</td>\n",
       "      <td>118321</td>\n",
       "      <td>117906</td>\n",
       "      <td>290919</td>\n",
       "      <td>118322</td>\n",
       "    </tr>\n",
       "    <tr>\n",
       "      <th>19726</th>\n",
       "      <td>0</td>\n",
       "      <td>17278</td>\n",
       "      <td>2710</td>\n",
       "      <td>118290</td>\n",
       "      <td>118291</td>\n",
       "      <td>120823</td>\n",
       "      <td>118396</td>\n",
       "      <td>269406</td>\n",
       "      <td>118398</td>\n",
       "      <td>118399</td>\n",
       "    </tr>\n",
       "  </tbody>\n",
       "</table>\n",
       "</div>"
      ],
      "text/plain": [
       "       ACTION  RESOURCE  MGR_ID  ROLE_ROLLUP_1  ROLE_ROLLUP_2  ROLE_DEPTNAME  \\\n",
       "19675       0      7543    6997         117961         118343         119945   \n",
       "25615       0     38723   19642         117961         118413         118481   \n",
       "14749       0     20218   15616         119280         119281         118623   \n",
       "22749       0     33115   27619         117961         118413         118414   \n",
       "19726       0     17278    2710         118290         118291         120823   \n",
       "\n",
       "       ROLE_TITLE  ROLE_FAMILY_DESC  ROLE_FAMILY  ROLE_CODE  \n",
       "19675      118321            117906       290919     118322  \n",
       "25615      118784            117906       290919     118786  \n",
       "14749      118995            286106       292795     118997  \n",
       "22749      118321            117906       290919     118322  \n",
       "19726      118396            269406       118398     118399  "
      ]
     },
     "execution_count": 14,
     "metadata": {},
     "output_type": "execute_result"
    }
   ],
   "source": [
    "data_frame_bal.head()"
   ]
  },
  {
   "cell_type": "code",
   "execution_count": 15,
   "id": "fd6f5efe",
   "metadata": {},
   "outputs": [
    {
     "data": {
      "text/plain": [
       "1    30872\n",
       "0    23000\n",
       "Name: ACTION, dtype: int64"
      ]
     },
     "execution_count": 15,
     "metadata": {},
     "output_type": "execute_result"
    }
   ],
   "source": [
    "data_frame_bal[\"ACTION\"].value_counts()"
   ]
  },
  {
   "cell_type": "code",
   "execution_count": 16,
   "id": "e7d2937c",
   "metadata": {},
   "outputs": [
    {
     "data": {
      "text/plain": [
       "<AxesSubplot:xlabel='ACTION', ylabel='count'>"
      ]
     },
     "execution_count": 16,
     "metadata": {},
     "output_type": "execute_result"
    },
    {
     "data": {
      "image/png": "[encoded data removed]",
      "text/plain": [
       "<Figure size 432x288 with 1 Axes>"
      ]
     },
     "metadata": {
      "needs_background": "light"
     },
     "output_type": "display_data"
    }
   ],
   "source": [
    "sns.countplot(data_frame_bal[\"ACTION\"])"
   ]
  },
  {
   "cell_type": "code",
   "execution_count": 17,
   "id": "22212ed7",
   "metadata": {},
   "outputs": [
    {
     "data": {
      "text/plain": [
       "117961    33445\n",
       "118256     1108\n",
       "117902     1056\n",
       "91261      1005\n",
       "119062      944\n",
       "          ...  \n",
       "118774        1\n",
       "209434        1\n",
       "147236        1\n",
       "133430        1\n",
       "120354        1\n",
       "Name: ROLE_ROLLUP_1, Length: 128, dtype: int64"
      ]
     },
     "execution_count": 17,
     "metadata": {},
     "output_type": "execute_result"
    }
   ],
   "source": [
    "data_frame_bal[\"ROLE_ROLLUP_1\"].value_counts()"
   ]
  },
  {
   "cell_type": "code",
   "execution_count": 18,
   "id": "db47205d",
   "metadata": {},
   "outputs": [
    {
     "data": {
      "text/plain": [
       "118300    6552\n",
       "118343    5334\n",
       "118327    3970\n",
       "118225    3734\n",
       "118052    3679\n",
       "          ... \n",
       "176316       1\n",
       "132840       1\n",
       "185842       1\n",
       "131390       1\n",
       "140550       1\n",
       "Name: ROLE_ROLLUP_2, Length: 177, dtype: int64"
      ]
     },
     "execution_count": 18,
     "metadata": {},
     "output_type": "execute_result"
    }
   ],
   "source": [
    "data_frame_bal[\"ROLE_ROLLUP_2\"].value_counts()"
   ]
  },
  {
   "cell_type": "code",
   "execution_count": 19,
   "id": "90e419e9",
   "metadata": {},
   "outputs": [
    {
     "data": {
      "text/plain": [
       "117878    1947\n",
       "117945    1663\n",
       "117941    1473\n",
       "117920    1233\n",
       "118992    1081\n",
       "          ... \n",
       "122587       1\n",
       "119565       1\n",
       "29113        1\n",
       "119496       1\n",
       "121097       1\n",
       "Name: ROLE_DEPTNAME, Length: 449, dtype: int64"
      ]
     },
     "execution_count": 19,
     "metadata": {},
     "output_type": "execute_result"
    }
   ],
   "source": [
    "data_frame_bal[\"ROLE_DEPTNAME\"].value_counts()"
   ]
  },
  {
   "cell_type": "code",
   "execution_count": 20,
   "id": "ae13ccca",
   "metadata": {},
   "outputs": [
    {
     "data": {
      "text/plain": [
       "118321    8782\n",
       "117905    4924\n",
       "118784    3137\n",
       "117879    2872\n",
       "118568    1880\n",
       "          ... \n",
       "130633       1\n",
       "239003       1\n",
       "157347       1\n",
       "208565       1\n",
       "130362       1\n",
       "Name: ROLE_TITLE, Length: 343, dtype: int64"
      ]
     },
     "execution_count": 20,
     "metadata": {},
     "output_type": "execute_result"
    }
   ],
   "source": [
    "data_frame_bal[\"ROLE_TITLE\"].value_counts()"
   ]
  },
  {
   "cell_type": "code",
   "execution_count": 21,
   "id": "8da8af3b",
   "metadata": {},
   "outputs": [],
   "source": [
    "data_frame_bal.reset_index(drop =  True, inplace = True)"
   ]
  },
  {
   "cell_type": "code",
   "execution_count": 22,
   "id": "5daa772e",
   "metadata": {},
   "outputs": [
    {
     "data": {
      "text/plain": [
       "<AxesSubplot:>"
      ]
     },
     "execution_count": 22,
     "metadata": {},
     "output_type": "execute_result"
    },
    {
     "data": {
      "image/png": "[encoded data removed]",
      "text/plain": [
       "<Figure size 1080x864 with 1 Axes>"
      ]
     },
     "metadata": {
      "needs_background": "light"
     },
     "output_type": "display_data"
    }
   ],
   "source": [
    "plt.figure(figsize = (15,12))\n",
    "sns.boxplot(data = data_frame_bal)"
   ]
  },
  {
   "cell_type": "code",
   "execution_count": 23,
   "id": "7d4d99a0",
   "metadata": {},
   "outputs": [],
   "source": [
    "X0 = data_frame.drop(\"ACTION\", axis = 1)\n",
    "X1 = data_frame_bal.drop(\"ACTION\", axis = 1)\n",
    "Y0 = data_frame[\"ACTION\"]\n",
    "Y1 = data_frame_bal[\"ACTION\"]"
   ]
  },
  {
   "cell_type": "code",
   "execution_count": 24,
   "id": "db00cdf8",
   "metadata": {},
   "outputs": [],
   "source": [
    "from sklearn.model_selection import train_test_split, GridSearchCV\n",
    "from sklearn.linear_model import LogisticRegression\n",
    "from sklearn.tree import DecisionTreeClassifier\n",
    "from sklearn.ensemble import RandomForestClassifier\n",
    "from sklearn.svm import SVC"
   ]
  },
  {
   "cell_type": "code",
   "execution_count": 25,
   "id": "56c5d5ef",
   "metadata": {},
   "outputs": [],
   "source": [
    "X0_train, X0_test, Y0_train, Y0_test = train_test_split(X0, Y0, test_size = 0.2, random_state = 101)\n",
    "X1_train, X1_test, Y1_train, Y1_test = train_test_split(X1, Y1, test_size = 0.2, random_state = 101)"
   ]
  },
  {
   "cell_type": "markdown",
   "id": "b3d00184",
   "metadata": {},
   "source": [
    "# LOGISTIC REGRESSION"
   ]
  },
  {
   "cell_type": "markdown",
   "id": "a4495412",
   "metadata": {},
   "source": [
    "## MODEL BUILDING"
   ]
  },
  {
   "cell_type": "code",
   "execution_count": 26,
   "id": "5987f024",
   "metadata": {},
   "outputs": [],
   "source": [
    "log_model_unbal = LogisticRegression()\n",
    "log_model_bal = LogisticRegression()"
   ]
  },
  {
   "cell_type": "code",
   "execution_count": 27,
   "id": "e12e3fc1",
   "metadata": {},
   "outputs": [
    {
     "data": {
      "text/plain": [
       "LogisticRegression()"
      ]
     },
     "execution_count": 27,
     "metadata": {},
     "output_type": "execute_result"
    }
   ],
   "source": [
    "log_model_unbal.fit(X0_train, Y0_train)\n",
    "log_model_bal.fit(X1_train, Y1_train)"
   ]
  },
  {
   "cell_type": "code",
   "execution_count": 28,
   "id": "9d36f109",
   "metadata": {},
   "outputs": [],
   "source": [
    "from sklearn.metrics import confusion_matrix, classification_report"
   ]
  },
  {
   "cell_type": "code",
   "execution_count": 29,
   "id": "77ba26b4",
   "metadata": {},
   "outputs": [],
   "source": [
    "Y0_predict = log_model_unbal.predict(X0_test)\n",
    "Y1_predict = log_model_bal.predict(X1_test)"
   ]
  },
  {
   "cell_type": "markdown",
   "id": "9dd74c26",
   "metadata": {},
   "source": [
    "## CONFUSION MATRICES"
   ]
  },
  {
   "cell_type": "code",
   "execution_count": 30,
   "id": "9ff6afb2",
   "metadata": {},
   "outputs": [
    {
     "name": "stdout",
     "output_type": "stream",
     "text": [
      "UNBALANCED DATASET CONFUSION MATRIX:\n"
     ]
    },
    {
     "data": {
      "text/plain": [
       "<AxesSubplot:>"
      ]
     },
     "execution_count": 30,
     "metadata": {},
     "output_type": "execute_result"
    },
    {
     "data": {
      "image/png": "[encoded data removed]",
      "text/plain": [
       "<Figure size 432x288 with 2 Axes>"
      ]
     },
     "metadata": {
      "needs_background": "light"
     },
     "output_type": "display_data"
    }
   ],
   "source": [
    "print(\"UNBALANCED DATASET CONFUSION MATRIX:\")\n",
    "sns.heatmap(confusion_matrix(Y0_predict, Y0_test),  annot = True)"
   ]
  },
  {
   "cell_type": "code",
   "execution_count": 31,
   "id": "fe25a576",
   "metadata": {},
   "outputs": [
    {
     "name": "stdout",
     "output_type": "stream",
     "text": [
      "BALANCED DATASET CONFUSION MATRIX: [[  31   64]\n",
      " [4582 6098]]\n"
     ]
    },
    {
     "data": {
      "text/plain": [
       "<AxesSubplot:>"
      ]
     },
     "execution_count": 31,
     "metadata": {},
     "output_type": "execute_result"
    },
    {
     "data": {
      "image/png": "[encoded data removed]",
      "text/plain": [
       "<Figure size 432x288 with 2 Axes>"
      ]
     },
     "metadata": {
      "needs_background": "light"
     },
     "output_type": "display_data"
    }
   ],
   "source": [
    "print(\"BALANCED DATASET CONFUSION MATRIX:\", confusion_matrix(Y1_predict, Y1_test))\n",
    "sns.heatmap(confusion_matrix(Y1_predict, Y1_test),  annot = True)"
   ]
  },
  {
   "cell_type": "markdown",
   "id": "0829a7dc",
   "metadata": {},
   "source": [
    "## CLASSIFICATION REPORT"
   ]
  },
  {
   "cell_type": "code",
   "execution_count": 32,
   "id": "7563017b",
   "metadata": {},
   "outputs": [
    {
     "name": "stdout",
     "output_type": "stream",
     "text": [
      "UNBALANCED DATASET CLASSIFICATION:\n",
      "              precision    recall  f1-score   support\n",
      "\n",
      "           0       0.00      0.00      0.00         0\n",
      "           1       1.00      0.94      0.97      6554\n",
      "\n",
      "    accuracy                           0.94      6554\n",
      "   macro avg       0.50      0.47      0.48      6554\n",
      "weighted avg       1.00      0.94      0.97      6554\n",
      "\n"
     ]
    }
   ],
   "source": [
    "print(\"UNBALANCED DATASET CLASSIFICATION:\")\n",
    "print(classification_report(Y0_predict, Y0_test))"
   ]
  },
  {
   "cell_type": "code",
   "execution_count": 33,
   "id": "e773b8b2",
   "metadata": {},
   "outputs": [
    {
     "name": "stdout",
     "output_type": "stream",
     "text": [
      "BALANCED DATASET CLASSIFICATION:\n",
      "              precision    recall  f1-score   support\n",
      "\n",
      "           0       0.01      0.33      0.01        95\n",
      "           1       0.99      0.57      0.72     10680\n",
      "\n",
      "    accuracy                           0.57     10775\n",
      "   macro avg       0.50      0.45      0.37     10775\n",
      "weighted avg       0.98      0.57      0.72     10775\n",
      "\n"
     ]
    }
   ],
   "source": [
    "print(\"BALANCED DATASET CLASSIFICATION:\")\n",
    "print(classification_report(Y1_predict, Y1_test))"
   ]
  },
  {
   "cell_type": "markdown",
   "id": "987f2ea8",
   "metadata": {},
   "source": [
    "# DECISION TREE"
   ]
  },
  {
   "cell_type": "markdown",
   "id": "95f83f6e",
   "metadata": {},
   "source": [
    "## BUILDING MODEL"
   ]
  },
  {
   "cell_type": "code",
   "execution_count": 34,
   "id": "857fdaa7",
   "metadata": {},
   "outputs": [
    {
     "data": {
      "text/plain": [
       "GridSearchCV(cv=10, estimator=DecisionTreeClassifier(random_state=101),\n",
       "             param_grid=[{'max_depth': [3, 5, 7, 9, 11],\n",
       "                          'max_features': [0.1, 0.2, 0.3, 0.5]}],\n",
       "             scoring='roc_auc')"
      ]
     },
     "execution_count": 34,
     "metadata": {},
     "output_type": "execute_result"
    }
   ],
   "source": [
    "params = [{\"max_depth\":[3,5,7,9,11],'max_features' : [0.1,0.2,0.3,0.5]}]\n",
    "model_dt = DecisionTreeClassifier(random_state = 101)\n",
    "model_cv = GridSearchCV(model_dt, params, cv = 10, scoring = 'roc_auc')\n",
    "model_cv.fit(X0_train, Y0_train)"
   ]
  },
  {
   "cell_type": "code",
   "execution_count": 35,
   "id": "16d0eda8",
   "metadata": {},
   "outputs": [
    {
     "data": {
      "text/plain": [
       "{'max_depth': 11, 'max_features': 0.3}"
      ]
     },
     "execution_count": 35,
     "metadata": {},
     "output_type": "execute_result"
    }
   ],
   "source": [
    "#best parameters for unbalanced dataset\n",
    "model_cv.best_params_"
   ]
  },
  {
   "cell_type": "code",
   "execution_count": 36,
   "id": "bbbc40b1",
   "metadata": {},
   "outputs": [
    {
     "data": {
      "text/plain": [
       "GridSearchCV(cv=10, estimator=DecisionTreeClassifier(random_state=101),\n",
       "             param_grid=[{'max_depth': [3, 5, 7, 9, 11],\n",
       "                          'max_features': [0.1, 0.2, 0.3, 0.5]}],\n",
       "             scoring='roc_auc')"
      ]
     },
     "execution_count": 36,
     "metadata": {},
     "output_type": "execute_result"
    }
   ],
   "source": [
    "# best parameters for unbalanced dataset\n",
    "model_cv.fit(X1_train, Y1_train)"
   ]
  },
  {
   "cell_type": "code",
   "execution_count": 37,
   "id": "f9d915d9",
   "metadata": {},
   "outputs": [
    {
     "data": {
      "text/plain": [
       "{'max_depth': 11, 'max_features': 0.5}"
      ]
     },
     "execution_count": 37,
     "metadata": {},
     "output_type": "execute_result"
    }
   ],
   "source": [
    "model_cv.best_params_"
   ]
  },
  {
   "cell_type": "markdown",
   "id": "08b7ce18",
   "metadata": {},
   "source": [
    "## Building model for unbalanced dataset"
   ]
  },
  {
   "cell_type": "code",
   "execution_count": 38,
   "id": "77be2f85",
   "metadata": {},
   "outputs": [],
   "source": [
    "model_dt_unbal = DecisionTreeClassifier(max_depth = 11, max_features = 0.3)"
   ]
  },
  {
   "cell_type": "code",
   "execution_count": 39,
   "id": "eb82d01d",
   "metadata": {},
   "outputs": [
    {
     "data": {
      "text/plain": [
       "DecisionTreeClassifier(max_depth=11, max_features=0.3)"
      ]
     },
     "execution_count": 39,
     "metadata": {},
     "output_type": "execute_result"
    }
   ],
   "source": [
    "model_dt_unbal.fit(X0_train, Y0_train)"
   ]
  },
  {
   "cell_type": "code",
   "execution_count": 40,
   "id": "27d81724",
   "metadata": {},
   "outputs": [],
   "source": [
    "Y0_predict_dt = model_dt_unbal.predict(X0_test)"
   ]
  },
  {
   "cell_type": "markdown",
   "id": "cbb1ca92",
   "metadata": {},
   "source": [
    "## CONFUSION MATRIX - Decision Tree(Unbalanced)"
   ]
  },
  {
   "cell_type": "code",
   "execution_count": 41,
   "id": "bbcface0",
   "metadata": {},
   "outputs": [
    {
     "name": "stdout",
     "output_type": "stream",
     "text": [
      "[[  55  364]\n",
      " [  70 6065]]\n"
     ]
    },
    {
     "data": {
      "text/plain": [
       "<AxesSubplot:>"
      ]
     },
     "execution_count": 41,
     "metadata": {},
     "output_type": "execute_result"
    },
    {
     "data": {
      "image/png": "[encoded data removed]",
      "text/plain": [
       "<Figure size 432x288 with 2 Axes>"
      ]
     },
     "metadata": {
      "needs_background": "light"
     },
     "output_type": "display_data"
    }
   ],
   "source": [
    "print(confusion_matrix(Y0_test, Y0_predict_dt))\n",
    "sns.heatmap(confusion_matrix(Y0_test, Y0_predict_dt), annot = True)"
   ]
  },
  {
   "cell_type": "markdown",
   "id": "9f3457dd",
   "metadata": {},
   "source": [
    "## CLASSIFICATION REPORT"
   ]
  },
  {
   "cell_type": "code",
   "execution_count": 42,
   "id": "2f850adc",
   "metadata": {},
   "outputs": [
    {
     "name": "stdout",
     "output_type": "stream",
     "text": [
      "              precision    recall  f1-score   support\n",
      "\n",
      "           0       0.44      0.13      0.20       419\n",
      "           1       0.94      0.99      0.97      6135\n",
      "\n",
      "    accuracy                           0.93      6554\n",
      "   macro avg       0.69      0.56      0.58      6554\n",
      "weighted avg       0.91      0.93      0.92      6554\n",
      "\n"
     ]
    }
   ],
   "source": [
    "print(classification_report(Y0_test, Y0_predict_dt))"
   ]
  },
  {
   "cell_type": "markdown",
   "id": "5c60504d",
   "metadata": {},
   "source": [
    "## Building model for balanced dataset"
   ]
  },
  {
   "cell_type": "code",
   "execution_count": 43,
   "id": "37f68cfd",
   "metadata": {},
   "outputs": [],
   "source": [
    "model_dt_bal = DecisionTreeClassifier(max_depth = 11, max_features = 0.5)\n",
    "model_dt_bal.fit(X1_train, Y1_train)\n",
    "Y1_predict_dt = model_dt_bal.predict(X1_test)"
   ]
  },
  {
   "cell_type": "markdown",
   "id": "decbb0aa",
   "metadata": {},
   "source": [
    "## CONFUSION MATRIX - Decision Tree(Balanced)"
   ]
  },
  {
   "cell_type": "code",
   "execution_count": 44,
   "id": "cf14916f",
   "metadata": {},
   "outputs": [
    {
     "name": "stdout",
     "output_type": "stream",
     "text": [
      "[[3677  936]\n",
      " [1330 4832]]\n"
     ]
    },
    {
     "data": {
      "text/plain": [
       "<AxesSubplot:>"
      ]
     },
     "execution_count": 44,
     "metadata": {},
     "output_type": "execute_result"
    },
    {
     "data": {
      "image/png": "[encoded data removed]",
      "text/plain": [
       "<Figure size 432x288 with 2 Axes>"
      ]
     },
     "metadata": {
      "needs_background": "light"
     },
     "output_type": "display_data"
    }
   ],
   "source": [
    "print(confusion_matrix(Y1_test, Y1_predict_dt))\n",
    "sns.heatmap(confusion_matrix(Y1_test, Y1_predict_dt), annot = True)"
   ]
  },
  {
   "cell_type": "markdown",
   "id": "ac4ecf7f",
   "metadata": {},
   "source": [
    "## CLASSIFICATION REPORT"
   ]
  },
  {
   "cell_type": "code",
   "execution_count": 45,
   "id": "c840e81e",
   "metadata": {},
   "outputs": [
    {
     "name": "stdout",
     "output_type": "stream",
     "text": [
      "              precision    recall  f1-score   support\n",
      "\n",
      "           0       0.73      0.80      0.76      4613\n",
      "           1       0.84      0.78      0.81      6162\n",
      "\n",
      "    accuracy                           0.79     10775\n",
      "   macro avg       0.79      0.79      0.79     10775\n",
      "weighted avg       0.79      0.79      0.79     10775\n",
      "\n"
     ]
    }
   ],
   "source": [
    "print(classification_report(Y1_test, Y1_predict_dt))"
   ]
  },
  {
   "cell_type": "markdown",
   "id": "93022bc3",
   "metadata": {},
   "source": [
    "# RANDOM FOREST"
   ]
  },
  {
   "cell_type": "code",
   "execution_count": 46,
   "id": "a43d90e9",
   "metadata": {},
   "outputs": [],
   "source": [
    "params = [{\"n_estimators\":[50,100,150,200],\"max_depth\":[3,5,7,9,11],'max_features' : [0.1,0.2,0.3,0.5]}]\n",
    "model_rf = RandomForestClassifier(random_state = 101)\n",
    "model_cv_rf = GridSearchCV(model_rf, params, cv = 10, scoring = 'roc_auc')"
   ]
  },
  {
   "cell_type": "code",
   "execution_count": 47,
   "id": "2fe4bdfa",
   "metadata": {},
   "outputs": [
    {
     "name": "stdout",
     "output_type": "stream",
     "text": [
      "Best parameters for unbalanced dataset\n",
      "GridSearchCV(cv=10, estimator=RandomForestClassifier(random_state=101),\n",
      "             param_grid=[{'max_depth': [3, 5, 7, 9, 11],\n",
      "                          'max_features': [0.1, 0.2, 0.3, 0.5],\n",
      "                          'n_estimators': [50, 100, 150, 200]}],\n",
      "             scoring='roc_auc')\n"
     ]
    }
   ],
   "source": [
    "print(\"Best parameters for unbalanced dataset\")\n",
    "print(model_cv_rf.fit(X0_train,Y0_train))"
   ]
  },
  {
   "cell_type": "code",
   "execution_count": 48,
   "id": "a697c36a",
   "metadata": {},
   "outputs": [
    {
     "data": {
      "text/plain": [
       "{'max_depth': 11, 'max_features': 0.5, 'n_estimators': 200}"
      ]
     },
     "execution_count": 48,
     "metadata": {},
     "output_type": "execute_result"
    }
   ],
   "source": [
    "# best parameters unbalanced dataset\n",
    "model_cv_rf.best_params_"
   ]
  },
  {
   "cell_type": "code",
   "execution_count": 49,
   "id": "2927b94b",
   "metadata": {},
   "outputs": [
    {
     "name": "stdout",
     "output_type": "stream",
     "text": [
      "Best parameters for balanced dataset\n",
      "GridSearchCV(cv=10, estimator=RandomForestClassifier(random_state=101),\n",
      "             param_grid=[{'max_depth': [3, 5, 7, 9, 11],\n",
      "                          'max_features': [0.1, 0.2, 0.3, 0.5],\n",
      "                          'n_estimators': [50, 100, 150, 200]}],\n",
      "             scoring='roc_auc')\n"
     ]
    }
   ],
   "source": [
    "print(\"Best parameters for balanced dataset\")\n",
    "print(model_cv_rf.fit(X1_train,Y1_train))"
   ]
  },
  {
   "cell_type": "code",
   "execution_count": 50,
   "id": "bdc5bd31",
   "metadata": {},
   "outputs": [
    {
     "data": {
      "text/plain": [
       "{'max_depth': 11, 'max_features': 0.5, 'n_estimators': 150}"
      ]
     },
     "execution_count": 50,
     "metadata": {},
     "output_type": "execute_result"
    }
   ],
   "source": [
    "# best parameters unbalanced dataset\n",
    "model_cv_rf.best_params_"
   ]
  },
  {
   "cell_type": "markdown",
   "id": "7f26c547",
   "metadata": {},
   "source": [
    "## MODEL BUILDING RF(Unbalanced)"
   ]
  },
  {
   "cell_type": "code",
   "execution_count": 51,
   "id": "0590e7dd",
   "metadata": {},
   "outputs": [],
   "source": [
    "model_rf_unbal = RandomForestClassifier(max_depth = 11, max_features = 0.5, n_estimators = 150)"
   ]
  },
  {
   "cell_type": "code",
   "execution_count": 52,
   "id": "18df4a14",
   "metadata": {},
   "outputs": [
    {
     "data": {
      "text/plain": [
       "RandomForestClassifier(max_depth=11, max_features=0.5, n_estimators=150)"
      ]
     },
     "execution_count": 52,
     "metadata": {},
     "output_type": "execute_result"
    }
   ],
   "source": [
    "model_rf_unbal.fit(X0_train, Y0_train) "
   ]
  },
  {
   "cell_type": "code",
   "execution_count": 53,
   "id": "a771d2e6",
   "metadata": {},
   "outputs": [],
   "source": [
    "Y0_rf_predict = model_rf_unbal.predict(X0_test)"
   ]
  },
  {
   "cell_type": "markdown",
   "id": "e454b19f",
   "metadata": {},
   "source": [
    "## CONFUSION MATRIX"
   ]
  },
  {
   "cell_type": "code",
   "execution_count": 54,
   "id": "cfdb5a7e",
   "metadata": {},
   "outputs": [
    {
     "name": "stdout",
     "output_type": "stream",
     "text": [
      "[[  30  389]\n",
      " [   6 6129]]\n"
     ]
    },
    {
     "data": {
      "text/plain": [
       "<AxesSubplot:>"
      ]
     },
     "execution_count": 54,
     "metadata": {},
     "output_type": "execute_result"
    },
    {
     "data": {
      "image/png": "[encoded data removed]",
      "text/plain": [
       "<Figure size 432x288 with 2 Axes>"
      ]
     },
     "metadata": {
      "needs_background": "light"
     },
     "output_type": "display_data"
    }
   ],
   "source": [
    "print(confusion_matrix(Y0_test, Y0_rf_predict))\n",
    "sns.heatmap(confusion_matrix(Y0_test, Y0_rf_predict), annot = True)"
   ]
  },
  {
   "cell_type": "markdown",
   "id": "5dccb546",
   "metadata": {},
   "source": [
    "## CLASSIFICATION REPORT"
   ]
  },
  {
   "cell_type": "code",
   "execution_count": 55,
   "id": "5a4dff7e",
   "metadata": {},
   "outputs": [
    {
     "name": "stdout",
     "output_type": "stream",
     "text": [
      "              precision    recall  f1-score   support\n",
      "\n",
      "           0       0.83      0.07      0.13       419\n",
      "           1       0.94      1.00      0.97      6135\n",
      "\n",
      "    accuracy                           0.94      6554\n",
      "   macro avg       0.89      0.54      0.55      6554\n",
      "weighted avg       0.93      0.94      0.92      6554\n",
      "\n"
     ]
    }
   ],
   "source": [
    "print(classification_report(Y0_test, Y0_rf_predict))"
   ]
  },
  {
   "cell_type": "markdown",
   "id": "37b6de3e",
   "metadata": {},
   "source": [
    "## MODEL BUILDING RF(Balanced)"
   ]
  },
  {
   "cell_type": "code",
   "execution_count": 56,
   "id": "39d1341a",
   "metadata": {},
   "outputs": [],
   "source": [
    "model_rf_bal = RandomForestClassifier(max_depth = 11, max_features = 0.5, n_estimators = 150)"
   ]
  },
  {
   "cell_type": "code",
   "execution_count": 57,
   "id": "db3625f2",
   "metadata": {},
   "outputs": [
    {
     "data": {
      "text/plain": [
       "RandomForestClassifier(max_depth=11, max_features=0.5, n_estimators=150)"
      ]
     },
     "execution_count": 57,
     "metadata": {},
     "output_type": "execute_result"
    }
   ],
   "source": [
    "model_rf_bal.fit(X1_train, Y1_train)"
   ]
  },
  {
   "cell_type": "code",
   "execution_count": 58,
   "id": "8702a0f3",
   "metadata": {},
   "outputs": [],
   "source": [
    "Y1_rf_predict = model_rf_bal.predict(X1_test)"
   ]
  },
  {
   "cell_type": "markdown",
   "id": "95bc2a6a",
   "metadata": {},
   "source": [
    "## CONFUSION MATRIX"
   ]
  },
  {
   "cell_type": "code",
   "execution_count": 59,
   "id": "caf038bf",
   "metadata": {},
   "outputs": [
    {
     "name": "stdout",
     "output_type": "stream",
     "text": [
      "[[3916  697]\n",
      " [ 442 5720]]\n"
     ]
    },
    {
     "data": {
      "text/plain": [
       "<AxesSubplot:>"
      ]
     },
     "execution_count": 59,
     "metadata": {},
     "output_type": "execute_result"
    },
    {
     "data": {
      "image/png": "[encoded data removed]",
      "text/plain": [
       "<Figure size 432x288 with 2 Axes>"
      ]
     },
     "metadata": {
      "needs_background": "light"
     },
     "output_type": "display_data"
    }
   ],
   "source": [
    "print(confusion_matrix(Y1_test, Y1_rf_predict))\n",
    "sns.heatmap(confusion_matrix(Y1_test, Y1_rf_predict), annot = True)"
   ]
  },
  {
   "cell_type": "code",
   "execution_count": 60,
   "id": "b8231064",
   "metadata": {},
   "outputs": [
    {
     "name": "stdout",
     "output_type": "stream",
     "text": [
      "              precision    recall  f1-score   support\n",
      "\n",
      "           0       0.90      0.85      0.87      4613\n",
      "           1       0.89      0.93      0.91      6162\n",
      "\n",
      "    accuracy                           0.89     10775\n",
      "   macro avg       0.89      0.89      0.89     10775\n",
      "weighted avg       0.89      0.89      0.89     10775\n",
      "\n"
     ]
    }
   ],
   "source": [
    "print(classification_report(Y1_test, Y1_rf_predict))"
   ]
  },
  {
   "cell_type": "markdown",
   "id": "d9d3433e",
   "metadata": {},
   "source": [
    "# SUPPORT VECTOR CLASSIFIER"
   ]
  },
  {
   "cell_type": "markdown",
   "id": "60014655",
   "metadata": {},
   "source": [
    "## RBF KERNEL"
   ]
  },
  {
   "cell_type": "code",
   "execution_count": 61,
   "id": "1c80fd32",
   "metadata": {},
   "outputs": [],
   "source": [
    "model_svc_1 = SVC(kernel = \"rbf\")"
   ]
  },
  {
   "cell_type": "code",
   "execution_count": 62,
   "id": "26d33aa5",
   "metadata": {},
   "outputs": [
    {
     "data": {
      "text/plain": [
       "SVC()"
      ]
     },
     "execution_count": 62,
     "metadata": {},
     "output_type": "execute_result"
    }
   ],
   "source": [
    "model_svc_1.fit(X = X0_train, y = Y0_train)"
   ]
  },
  {
   "cell_type": "code",
   "execution_count": 63,
   "id": "49376cc2",
   "metadata": {},
   "outputs": [],
   "source": [
    " Y0_svc_predict = model_svc_1.predict(X0_test)"
   ]
  },
  {
   "cell_type": "markdown",
   "id": "f20887b6",
   "metadata": {},
   "source": [
    "## CONFUSION MATRIX"
   ]
  },
  {
   "cell_type": "code",
   "execution_count": 64,
   "id": "d2fcc5bf",
   "metadata": {},
   "outputs": [
    {
     "name": "stdout",
     "output_type": "stream",
     "text": [
      "[[   0  419]\n",
      " [   0 6135]]\n"
     ]
    },
    {
     "data": {
      "text/plain": [
       "<AxesSubplot:>"
      ]
     },
     "execution_count": 64,
     "metadata": {},
     "output_type": "execute_result"
    },
    {
     "data": {
      "image/png": "[encoded data removed]",
      "text/plain": [
       "<Figure size 432x288 with 2 Axes>"
      ]
     },
     "metadata": {
      "needs_background": "light"
     },
     "output_type": "display_data"
    }
   ],
   "source": [
    "print(confusion_matrix(Y0_test, Y0_svc_predict))\n",
    "sns.heatmap(confusion_matrix(Y0_test, Y0_svc_predict), annot = True)"
   ]
  },
  {
   "cell_type": "markdown",
   "id": "c974b883",
   "metadata": {},
   "source": [
    "## CLASSIFICATION REPORT"
   ]
  },
  {
   "cell_type": "code",
   "execution_count": 66,
   "id": "510bd6c5",
   "metadata": {},
   "outputs": [
    {
     "name": "stdout",
     "output_type": "stream",
     "text": [
      "              precision    recall  f1-score   support\n",
      "\n",
      "           0       0.00      0.00      0.00       419\n",
      "           1       0.94      1.00      0.97      6135\n",
      "\n",
      "    accuracy                           0.94      6554\n",
      "   macro avg       0.47      0.50      0.48      6554\n",
      "weighted avg       0.88      0.94      0.91      6554\n",
      "\n"
     ]
    }
   ],
   "source": [
    "print(classification_report(Y0_test, Y0_svc_predict))"
   ]
  },
  {
   "cell_type": "code",
   "execution_count": 67,
   "id": "8e9ba9f4",
   "metadata": {},
   "outputs": [
    {
     "data": {
      "text/plain": [
       "SVC()"
      ]
     },
     "execution_count": 67,
     "metadata": {},
     "output_type": "execute_result"
    }
   ],
   "source": [
    "model_svc_1.fit(X = X1_train, y = Y1_train)"
   ]
  },
  {
   "cell_type": "code",
   "execution_count": 70,
   "id": "b4f04f76",
   "metadata": {},
   "outputs": [],
   "source": [
    " Y1_svc_predict = model_svc_1.predict(X1_test)"
   ]
  },
  {
   "cell_type": "markdown",
   "id": "04390972",
   "metadata": {},
   "source": [
    "## CONFUSION MATRIX balanced"
   ]
  },
  {
   "cell_type": "code",
   "execution_count": 71,
   "id": "dc163e07",
   "metadata": {},
   "outputs": [
    {
     "name": "stdout",
     "output_type": "stream",
     "text": [
      "[[1457 3156]\n",
      " [ 986 5176]]\n"
     ]
    },
    {
     "data": {
      "text/plain": [
       "<AxesSubplot:>"
      ]
     },
     "execution_count": 71,
     "metadata": {},
     "output_type": "execute_result"
    },
    {
     "data": {
      "image/png": "[encoded data removed]",
      "text/plain": [
       "<Figure size 432x288 with 2 Axes>"
      ]
     },
     "metadata": {
      "needs_background": "light"
     },
     "output_type": "display_data"
    }
   ],
   "source": [
    "print(confusion_matrix(Y1_test, Y1_svc_predict))\n",
    "sns.heatmap(confusion_matrix(Y1_test, Y1_svc_predict), annot = True)"
   ]
  },
  {
   "cell_type": "markdown",
   "id": "7f477059",
   "metadata": {},
   "source": [
    "## CLASSIFICATION REPORT"
   ]
  },
  {
   "cell_type": "code",
   "execution_count": 73,
   "id": "34a990c3",
   "metadata": {},
   "outputs": [
    {
     "name": "stdout",
     "output_type": "stream",
     "text": [
      "              precision    recall  f1-score   support\n",
      "\n",
      "           0       0.60      0.32      0.41      4613\n",
      "           1       0.62      0.84      0.71      6162\n",
      "\n",
      "    accuracy                           0.62     10775\n",
      "   macro avg       0.61      0.58      0.56     10775\n",
      "weighted avg       0.61      0.62      0.59     10775\n",
      "\n"
     ]
    }
   ],
   "source": [
    "print(classification_report(Y1_test, Y1_svc_predict))"
   ]
  },
  {
   "cell_type": "markdown",
   "id": "3d76342f",
   "metadata": {},
   "source": [
    "# PICKLING"
   ]
  },
  {
   "cell_type": "code",
   "execution_count": 86,
   "id": "66e7eab2",
   "metadata": {},
   "outputs": [],
   "source": [
    "import pickle"
   ]
  },
  {
   "cell_type": "code",
   "execution_count": 87,
   "id": "f29f6347",
   "metadata": {},
   "outputs": [],
   "source": [
    "filename = \"model_class_randomforest\""
   ]
  },
  {
   "cell_type": "code",
   "execution_count": 88,
   "id": "32f15e1c",
   "metadata": {},
   "outputs": [],
   "source": [
    "pickle.dump(model_rf_unbal, open(filename,'wb'))"
   ]
  },
  {
   "cell_type": "code",
   "execution_count": null,
   "id": "74be69ec",
   "metadata": {},
   "outputs": [],
   "source": [
    "## Random Forest has highest accuracy according to the classification report, hence we will choose random forest as our classifier."
   ]
  }
 ],
 "metadata": {
  "kernelspec": {
   "display_name": "Python 3 (ipykernel)",
   "language": "python",
   "name": "python3"
  },
  "language_info": {
   "codemirror_mode": {
    "name": "ipython",
    "version": 3
   },
   "file_extension": ".py",
   "mimetype": "text/x-python",
   "name": "python",
   "nbconvert_exporter": "python",
   "pygments_lexer": "ipython3",
   "version": "3.9.12"
  }
 },
 "nbformat": 4,
 "nbformat_minor": 5
}
